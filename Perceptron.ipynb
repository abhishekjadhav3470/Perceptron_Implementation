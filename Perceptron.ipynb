{
 "cells": [
  {
   "cell_type": "code",
   "execution_count": 3,
   "id": "2438ca74",
   "metadata": {},
   "outputs": [],
   "source": [
    "import os\n",
    "import pandas as  pd\n",
    "import matplotlib.pyplot as plt\n",
    "import numpy as np\n",
    "import seaborn as sns\n",
    "import joblib\n",
    "from matplotlib.colors import ListedColormap\n",
    "\n",
    "plt.style.use(\"fivethirtyeight\")  ## <<optional step"
   ]
  },
  {
   "cell_type": "code",
   "execution_count": null,
   "id": "ddaa57ff",
   "metadata": {},
   "outputs": [],
   "source": [
    "class Perceptron:\n",
    "    def __init__(self, eta: float=None, epochs: int=None):\n",
    "        self.weigths = np.random.randn(3) * 1e-4 ## Small Random Weights\n",
    "        training = (eta is not None) and (epochs is not None)\n",
    "        if training:\n",
    "            print(f\"Initial weights before training :\\n {self.weigths}\")\n",
    "            \n",
    "    \n",
    "    def _z_outcome(self):\n",
    "        pass\n",
    "    \n",
    "    \n",
    "    def activation_function(self):\n",
    "        pass\n",
    "    \n",
    "    def fit(self):\n",
    "        pass\n",
    "    \n",
    "    def predict(self):\n",
    "        pass\n",
    "    \n",
    "    def total_pass(self):\n",
    "        pass\n",
    "    \n",
    "    def _create_dir_return_path(self):\n",
    "        pass\n",
    "    \n",
    "    def save(self):\n",
    "        pass\n",
    "    \n",
    "    def load(self):\n",
    "        pass"
   ]
  }
 ],
 "metadata": {
  "kernelspec": {
   "display_name": "Python 3 (ipykernel)",
   "language": "python",
   "name": "python3"
  },
  "language_info": {
   "codemirror_mode": {
    "name": "ipython",
    "version": 3
   },
   "file_extension": ".py",
   "mimetype": "text/x-python",
   "name": "python",
   "nbconvert_exporter": "python",
   "pygments_lexer": "ipython3",
   "version": "3.7.16"
  }
 },
 "nbformat": 4,
 "nbformat_minor": 5
}
