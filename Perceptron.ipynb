{
 "cells": [
  {
   "cell_type": "code",
   "execution_count": 3,
   "id": "39aa4f14",
   "metadata": {},
   "outputs": [],
   "source": [
    "import os\n",
    "import pandas as  pd\n",
    "import matplotlib.pyplot as plt\n",
    "import numpy as np\n",
    "import seaborn as sns\n",
    "import joblib\n",
    "from matplotlib.colors import ListedColormap\n",
    "\n",
    "plt.style.use(\"fivethirtyeight\")  ## <<optional step"
   ]
  },
  {
   "cell_type": "code",
   "execution_count": null,
   "id": "f9158a15",
   "metadata": {},
   "outputs": [],
   "source": [
    "class Perceptron:\n",
    "    def __init__(self, eta: float=None, epochs: int=None):\n",
    "        self.weigths = np.random.randn(3) * 1e-4 ## Small Random Weights\n",
    "        training = (eta is not None) and (epochs is not None)\n",
    "        if training:\n",
    "            print(f\"Initial weights before training :\\n {self.weigths}\")\n",
    "        self.eta = eta\n",
    "        self.epochs = epochs\n",
    "    \n",
    "    def _z_outcome(self, inputs, weigths):\n",
    "        return np.dot(inputs, weigths)\n",
    "    \n",
    "    \n",
    "    def activation_function(self, z):\n",
    "        return np.where(z > 0, 1, 0)\n",
    "    \n",
    "    def fit(self, X, y):\n",
    "        self.X = X\n",
    "        self.y = y\n",
    "        \n",
    "        X_with_bais = np.c_[self.X, -np.ones((len(self.X),1 ))]\n",
    "        print(f\"X_with_bais: \\n {X_with_bais}\")\n",
    "        \n",
    "        for epochs in range(self.epochs):\n",
    "            print(f\"for epoch >> {epoch}\")\n",
    "            \n",
    "            z = self._z_outcome(X_with_bais, self.weigths)\n",
    "            y_hat = self.activation_function(z)\n",
    "            print(f\"predicted value after forward pass: \\n {y_hat}\")\n",
    "            \n",
    "            self.error = self.y - y_hat\n",
    "            print(f\"error :\\n {self.error}\")\n",
    "            \n",
    "            self.weigths = self.weigths + self.eta * np.dot(X_with_bais.T, self.error)\n",
    "            print(f\"updated weights after epoch: {epoch}/{self.epochs}: \\n{self.weigths}\")\n",
    "        \n",
    "            \n",
    "    def predict(self):\n",
    "        pass\n",
    "    \n",
    "    def total_pass(self):\n",
    "        pass\n",
    "    \n",
    "    def _create_dir_return_path(self):\n",
    "        pass\n",
    "    \n",
    "    def save(self):\n",
    "        pass\n",
    "    \n",
    "    def load(self):\n",
    "        pass"
   ]
  }
 ],
 "metadata": {
  "kernelspec": {
   "display_name": "Python 3 (ipykernel)",
   "language": "python",
   "name": "python3"
  },
  "language_info": {
   "codemirror_mode": {
    "name": "ipython",
    "version": 3
   },
   "file_extension": ".py",
   "mimetype": "text/x-python",
   "name": "python",
   "nbconvert_exporter": "python",
   "pygments_lexer": "ipython3",
   "version": "3.7.16"
  }
 },
 "nbformat": 4,
 "nbformat_minor": 5
}
